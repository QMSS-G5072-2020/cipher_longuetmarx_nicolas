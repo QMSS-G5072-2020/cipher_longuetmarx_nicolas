{
 "cells": [
  {
   "cell_type": "code",
   "execution_count": 1,
   "metadata": {},
   "outputs": [],
   "source": [
    "'''\n",
    "Author: Jett Pettus  \n",
    "Created: November 25, 2019   \n",
    "\n",
    "Calculate the distance between cities and tv markets   \n",
    "-- Create dummies if that city is covered by the tv market\n",
    "\n",
    "Must install geopy\n",
    "'''\n",
    "import numpy as np \n",
    "import pandas as pd\n",
    "import geopy.distance \n",
    "import math \n",
    "\n",
    "# Directories:\n",
    "raw = \"../Data/Raw/\"\n",
    "tmp = \"../Data/Temp/\"\n",
    "proc = \"../Data/Processed/\""
   ]
  },
  {
   "cell_type": "code",
   "execution_count": 2,
   "metadata": {},
   "outputs": [],
   "source": [
    "tv_data = pd.read_csv(proc + 'tv_data_b_sink.csv')\n",
    "papers_data = pd.read_csv(proc + 'newspaper_gis_merge.csv')"
   ]
  },
  {
   "cell_type": "code",
   "execution_count": 3,
   "metadata": {},
   "outputs": [],
   "source": [
    "def comp_distance(lat1, lon1, lat2, lon2):\n",
    "    '''\n",
    "    Input:\n",
    "        Two coordinates \n",
    "    Return: \n",
    "        Distance in km\n",
    "    '''\n",
    "    c1 = (lat1, lon1)\n",
    "    c2 = (lat2, lon2)\n",
    "    dist = geopy.distance.distance(c1, c2).km\n",
    "    return dist \n",
    "\n",
    "# Another Method (less accurate)\n",
    "def distance(origin, destination):\n",
    "    lat1, lon1 = origin\n",
    "    lat2, lon2 = destination\n",
    "    radius = 6371 # km\n",
    "\n",
    "    dlat = math.radians(lat2-lat1)\n",
    "    dlon = math.radians(lon2-lon1)\n",
    "    a = math.sin(dlat/2) * math.sin(dlat/2) + math.cos(math.radians(lat1)) \\\n",
    "        * math.cos(math.radians(lat2)) * math.sin(dlon/2) * math.sin(dlon/2)\n",
    "    c = 2 * math.atan2(math.sqrt(a), math.sqrt(1-a))\n",
    "    d = radius * c\n",
    "\n",
    "    return d"
   ]
  },
  {
   "cell_type": "code",
   "execution_count": 4,
   "metadata": {},
   "outputs": [],
   "source": [
    "# Want to calculate the distance between every tv/newspaper pairing\n",
    "# Then determine if that distance <= results_b (in km)\n",
    "tv_loc = {}\n",
    "for row in range(0, len(tv_data)):\n",
    "    tvid = tv_data.loc[row, 'tvid']\n",
    "    lat = tv_data.loc[row, 'latitude']\n",
    "    lon = tv_data.loc[row, 'longitude']\n",
    "    dist = tv_data.loc[row, 'results_b']\n",
    "    year = tv_data.loc[row, 'year']\n",
    "    tv_loc[tvid] = {}\n",
    "    tv_loc[tvid] = [year, dist, lat, lon]\n",
    "\n",
    "paper_loc = {}\n",
    "for row in range(0, len(papers_data)):\n",
    "    market_id = papers_data.loc[row, 'market_id']\n",
    "    lat = papers_data.loc[row, 'latitude']\n",
    "    lon = papers_data.loc[row, 'longitude']\n",
    "    paper_loc[market_id] = {}\n",
    "    paper_loc[market_id] = [lat, lon]"
   ]
  },
  {
   "cell_type": "code",
   "execution_count": 5,
   "metadata": {},
   "outputs": [],
   "source": [
    "def mult_result(mult):\n",
    "    pct = (100 + mult)/100\n",
    "    print(pct)\n",
    "    results = {}\n",
    "    for key in paper_loc.keys():\n",
    "        results[key] = []\n",
    "        lat1 = paper_loc[key][0]\n",
    "        lon1 = paper_loc[key][1]\n",
    "        for tv in tv_loc.keys():\n",
    "            lat2 = tv_loc[tv][2]\n",
    "            lon2 = tv_loc[tv][3]\n",
    "            resb_dist = tv_loc[tv][1] * pct\n",
    "            year = tv_loc[tv][0]\n",
    "            distance = comp_distance(lat1, lon1, lat2, lon2)\n",
    "            if distance <= resb_dist:\n",
    "                 results[key].append(tv)\n",
    "\n",
    "    markets_long = []\n",
    "    tv_long = []\n",
    "    for item in results.keys():\n",
    "        for tv in range(0, len(results[item])):\n",
    "            markets_long.append(item)\n",
    "            tv_long.append(results[item][tv])\n",
    "\n",
    "    df = pd.DataFrame()\n",
    "    df['market_id'] = markets_long\n",
    "    df['tvid'] = tv_long\n",
    "\n",
    "    df.to_stata(tmp + 'market_tv_match' + str(mult) + '.dta', write_index = False)"
   ]
  },
  {
   "cell_type": "code",
   "execution_count": 6,
   "metadata": {},
   "outputs": [
    {
     "name": "stdout",
     "output_type": "stream",
     "text": [
      "1.0\n",
      "1.1\n",
      "1.2\n",
      "1.3\n",
      "1.4\n",
      "1.5\n",
      "1.6\n",
      "1.7\n",
      "1.8\n",
      "1.9\n",
      "2.0\n",
      "0.9\n",
      "0.8\n",
      "0.7\n",
      "0.6\n",
      "0.5\n",
      "0.4\n",
      "0.3\n",
      "0.2\n",
      "0.1\n",
      "0.0\n"
     ]
    }
   ],
   "source": [
    "for x in range(0,110,10):\n",
    "    mult_result(x)\n",
    "for x in range(10,110,10):\n",
    "    mult_result(-x)"
   ]
  }
 ],
 "metadata": {
  "kernelspec": {
   "display_name": "Python 3",
   "language": "python",
   "name": "python3"
  },
  "language_info": {
   "codemirror_mode": {
    "name": "ipython",
    "version": 3
   },
   "file_extension": ".py",
   "mimetype": "text/x-python",
   "name": "python",
   "nbconvert_exporter": "python",
   "pygments_lexer": "ipython3",
   "version": "3.8.5"
  }
 },
 "nbformat": 4,
 "nbformat_minor": 2
}
